{
 "cells": [
  {
   "cell_type": "markdown",
   "metadata": {},
   "source": [
    "# Guessing Game Challenge\n",
    "\n",
    "Let's use `while` loops to create a guessing game.\n",
    "\n",
    "The Challenge:\n",
    "\n",
    "Write a program that picks a random integer from 1 to 100, and has players guess the number. The rules are:\n",
    "\n",
    "1. If a player's guess is less than 1 or greater than 100, say \"OUT OF BOUNDS\"\n",
    "2. On a player's first turn, if their guess is\n",
    " * within 10 of the number, return \"WARM!\"\n",
    " * further than 10 away from the number, return \"COLD!\"\n",
    "3. On all subsequent turns, if a guess is \n",
    " * closer to the number than the previous guess return \"WARMER!\"\n",
    " * farther from the number than the previous guess, return \"COLDER!\"\n",
    "4. When the player's guess equals the number, tell them they've guessed correctly *and* how many guesses it took!\n",
    "\n",
    "You can try this from scratch, or follow the steps outlined below. A separate Solution notebook has been provided. Good luck!\n"
   ]
  },
  {
   "cell_type": "markdown",
   "metadata": {},
   "source": [
    "#### First, pick a random integer from 1 to 100 using the random module and assign it to a variable\n",
    "\n",
    "Note: `random.randint(a,b)` returns a random integer in range `[a, b]`, including both end points."
   ]
  },
  {
   "cell_type": "code",
   "execution_count": 8,
   "metadata": {},
   "outputs": [
    {
     "name": "stdout",
     "output_type": "stream",
     "text": [
      "44\n"
     ]
    }
   ],
   "source": [
    "from random import randint\n",
    "\n",
    "num = randint(1, 100)\n",
    "print(num)"
   ]
  },
  {
   "cell_type": "markdown",
   "metadata": {},
   "source": [
    "#### Next, print an introduction to the game and explain the rules"
   ]
  },
  {
   "cell_type": "code",
   "execution_count": 8,
   "metadata": {},
   "outputs": [
    {
     "name": "stdout",
     "output_type": "stream",
     "text": [
      "Hello! I'm thinking of a number 1-100. Can you guess it? I will tell you when you are warm or cold.\n"
     ]
    }
   ],
   "source": [
    "print(\"Hello! I'm thinking of a number 1-100. Can you guess it? I will tell you when you are warm or cold.\")"
   ]
  },
  {
   "cell_type": "markdown",
   "metadata": {},
   "source": [
    "#### Create a list to store guesses\n",
    "\n",
    "Hint: zero is a good placeholder value. It's useful because it evaluates to \"False\""
   ]
  },
  {
   "cell_type": "code",
   "execution_count": 9,
   "metadata": {},
   "outputs": [],
   "source": [
    "guessList = [0]"
   ]
  },
  {
   "cell_type": "markdown",
   "metadata": {},
   "source": [
    "#### Write a `while` loop that asks for a valid guess. Test it a few times to make sure it works."
   ]
  },
  {
   "cell_type": "code",
   "execution_count": 4,
   "metadata": {},
   "outputs": [
    {
     "name": "stdout",
     "output_type": "stream",
     "text": [
      "What is your guess? 5\n"
     ]
    }
   ],
   "source": [
    "while True:\n",
    "    guessStr = input(\"What is your guess? \")\n",
    "    guess = int(guessStr)\n",
    "    if (guess < 1) or (guess > 100):\n",
    "        print(\"OUT OF BOUNDS\")\n",
    "        continue \n",
    "    break"
   ]
  },
  {
   "cell_type": "markdown",
   "metadata": {},
   "source": [
    "#### Write a `while` loop that compares the player's guess to our number. If the player guesses correctly, break from the loop. Otherwise, tell the player if they're warmer or colder, and continue asking for guesses.\n",
    "\n",
    "Some hints:\n",
    "* it may help to sketch out all possible combinations on paper first!\n",
    "* you can use the `abs()` function to find the positive difference between two numbers\n",
    "* if you append all new guesses to the list, then the previous guess is given as `guesses[-2]`"
   ]
  },
  {
   "cell_type": "code",
   "execution_count": 10,
   "metadata": {},
   "outputs": [
    {
     "name": "stdout",
     "output_type": "stream",
     "text": [
      "What is your guess? 5\n",
      "cold\n",
      "What is your guess? 77\n",
      "you're getting warmer!\n",
      "What is your guess? 45\n",
      "you're getting warmer!\n",
      "What is your guess? 30\n",
      "you're getting colder\n",
      "What is your guess? 41\n",
      "you're getting warmer!\n",
      "What is your guess? 44\n",
      "you guessed it in 6 tries!\n"
     ]
    }
   ],
   "source": [
    "while True:\n",
    "    guessStr = input(\"What is your guess? \")\n",
    "    guess = int(guessStr)\n",
    "    \n",
    "    #make sure guess is valid number\n",
    "    if (guess < 1) or (guess > 100):\n",
    "        print(\"OUT OF BOUNDS\")\n",
    "        continue \n",
    "        \n",
    "    #if they guess correctly\n",
    "    if guess == num:\n",
    "        print(f\"you guessed it in {len(guessList)} tries!\")\n",
    "        break\n",
    "     \n",
    "    #learned this from the course- we aren't counting out of bounds guesses or correct guesses\n",
    "    guessList.append(guess)\n",
    "    \n",
    "    #if it is not their first turn (other guesses exist)\n",
    "    if guessList[-2]:\n",
    "        if (abs(guess-num) > abs(guessList[-2]-num)):\n",
    "            print(\"you're getting colder\")\n",
    "        else:\n",
    "            print(\"you're getting warmer!\")\n",
    "    \n",
    "    #if it is their first turn (other guesses don't exist)\n",
    "    else:\n",
    "        if (abs(guess-num) > 10):\n",
    "            print(\"cold\")\n",
    "        else:\n",
    "            print(\"warm\")\n"
   ]
  },
  {
   "cell_type": "markdown",
   "metadata": {},
   "source": [
    "That's it! You've just programmed your first game!\n",
    "\n",
    "In the next section we'll learn how to turn some of these repetitive actions into *functions* that can be called whenever we need them."
   ]
  },
  {
   "cell_type": "markdown",
   "metadata": {},
   "source": [
    "### Good Job!"
   ]
  },
  {
   "cell_type": "code",
   "execution_count": null,
   "metadata": {},
   "outputs": [],
   "source": []
  }
 ],
 "metadata": {
  "kernelspec": {
   "display_name": "Python 3",
   "language": "python",
   "name": "python3"
  },
  "language_info": {
   "codemirror_mode": {
    "name": "ipython",
    "version": 3
   },
   "file_extension": ".py",
   "mimetype": "text/x-python",
   "name": "python",
   "nbconvert_exporter": "python",
   "pygments_lexer": "ipython3",
   "version": "3.7.1"
  }
 },
 "nbformat": 4,
 "nbformat_minor": 2
}
